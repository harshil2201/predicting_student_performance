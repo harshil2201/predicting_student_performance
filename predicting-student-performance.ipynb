{
 "cells": [
  {
   "cell_type": "code",
   "execution_count": 1,
   "id": "3b0badf0",
   "metadata": {
    "execution": {
     "iopub.execute_input": "2023-03-06T05:53:54.454818Z",
     "iopub.status.busy": "2023-03-06T05:53:54.454414Z",
     "iopub.status.idle": "2023-03-06T05:53:57.440202Z",
     "shell.execute_reply": "2023-03-06T05:53:57.438919Z"
    },
    "papermill": {
     "duration": 2.999923,
     "end_time": "2023-03-06T05:53:57.443117",
     "exception": false,
     "start_time": "2023-03-06T05:53:54.443194",
     "status": "completed"
    },
    "tags": []
   },
   "outputs": [],
   "source": [
    "import pandas as pd\n",
    "import numpy as np\n",
    "\n",
    "import matplotlib.pyplot as plt\n",
    "import seaborn as sns\n",
    "\n",
    "import plotly as py\n",
    "import plotly.graph_objs as go\n",
    "import plotly.express as px\n",
    "from plotly.subplots import make_subplots"
   ]
  },
  {
   "cell_type": "code",
   "execution_count": 2,
   "id": "8a8f8ae4",
   "metadata": {
    "execution": {
     "iopub.execute_input": "2023-03-06T05:53:57.462889Z",
     "iopub.status.busy": "2023-03-06T05:53:57.462346Z",
     "iopub.status.idle": "2023-03-06T05:53:57.808592Z",
     "shell.execute_reply": "2023-03-06T05:53:57.807699Z"
    },
    "papermill": {
     "duration": 0.359394,
     "end_time": "2023-03-06T05:53:57.811315",
     "exception": false,
     "start_time": "2023-03-06T05:53:57.451921",
     "status": "completed"
    },
    "tags": []
   },
   "outputs": [],
   "source": [
    "from sklearn.model_selection import KFold, GroupKFold\n",
    "from xgboost import XGBClassifier\n",
    "from sklearn.metrics import f1_score"
   ]
  },
  {
   "cell_type": "code",
   "execution_count": 3,
   "id": "19df2cbb",
   "metadata": {
    "execution": {
     "iopub.execute_input": "2023-03-06T05:53:57.831272Z",
     "iopub.status.busy": "2023-03-06T05:53:57.830571Z",
     "iopub.status.idle": "2023-03-06T05:53:57.844244Z",
     "shell.execute_reply": "2023-03-06T05:53:57.843137Z"
    },
    "papermill": {
     "duration": 0.026941,
     "end_time": "2023-03-06T05:53:57.846943",
     "exception": false,
     "start_time": "2023-03-06T05:53:57.820002",
     "status": "completed"
    },
    "tags": []
   },
   "outputs": [],
   "source": [
    "# Reduce Memory Usage\n",
    "# reference : https://www.kaggle.com/code/arjanso/reducing-dataframe-memory-size-by-65 @ARJANGROEN\n",
    "\n",
    "def reduce_memory_usage(df):\n",
    "    \n",
    "    start_mem = df.memory_usage().sum() / 1024**2\n",
    "    print('Memory usage of dataframe is {:.2f} MB'.format(start_mem))\n",
    "    \n",
    "    for col in df.columns:\n",
    "        col_type = df[col].dtype.name\n",
    "        if ((col_type != 'datetime64[ns]') & (col_type != 'category')):\n",
    "            if (col_type != 'object'):\n",
    "                c_min = df[col].min()\n",
    "                c_max = df[col].max()\n",
    "\n",
    "                if str(col_type)[:3] == 'int':\n",
    "                    if c_min > np.iinfo(np.int8).min and c_max < np.iinfo(np.int8).max:\n",
    "                        df[col] = df[col].astype(np.int8)\n",
    "                    elif c_min > np.iinfo(np.int16).min and c_max < np.iinfo(np.int16).max:\n",
    "                        df[col] = df[col].astype(np.int16)\n",
    "                    elif c_min > np.iinfo(np.int32).min and c_max < np.iinfo(np.int32).max:\n",
    "                        df[col] = df[col].astype(np.int32)\n",
    "                    elif c_min > np.iinfo(np.int64).min and c_max < np.iinfo(np.int64).max:\n",
    "                        df[col] = df[col].astype(np.int64)\n",
    "\n",
    "                else:\n",
    "                    if c_min > np.finfo(np.float16).min and c_max < np.finfo(np.float16).max:\n",
    "                        df[col] = df[col].astype(np.float16)\n",
    "                    elif c_min > np.finfo(np.float32).min and c_max < np.finfo(np.float32).max:\n",
    "                        df[col] = df[col].astype(np.float32)\n",
    "                    else:\n",
    "                        pass\n",
    "            else:\n",
    "                df[col] = df[col].astype('category')\n",
    "    mem_usg = df.memory_usage().sum() / 1024**2 \n",
    "    print(\"Memory usage became: \",mem_usg,\" MB\")\n",
    "    \n",
    "    return df"
   ]
  },
  {
   "cell_type": "code",
   "execution_count": 4,
   "id": "d87d41ba",
   "metadata": {
    "execution": {
     "iopub.execute_input": "2023-03-06T05:53:57.866542Z",
     "iopub.status.busy": "2023-03-06T05:53:57.865758Z",
     "iopub.status.idle": "2023-03-06T05:55:06.328839Z",
     "shell.execute_reply": "2023-03-06T05:55:06.327955Z"
    },
    "papermill": {
     "duration": 68.484864,
     "end_time": "2023-03-06T05:55:06.340766",
     "exception": false,
     "start_time": "2023-03-06T05:53:57.855902",
     "status": "completed"
    },
    "tags": []
   },
   "outputs": [
    {
     "data": {
      "text/html": [
       "<div>\n",
       "<style scoped>\n",
       "    .dataframe tbody tr th:only-of-type {\n",
       "        vertical-align: middle;\n",
       "    }\n",
       "\n",
       "    .dataframe tbody tr th {\n",
       "        vertical-align: top;\n",
       "    }\n",
       "\n",
       "    .dataframe thead th {\n",
       "        text-align: right;\n",
       "    }\n",
       "</style>\n",
       "<table border=\"1\" class=\"dataframe\">\n",
       "  <thead>\n",
       "    <tr style=\"text-align: right;\">\n",
       "      <th></th>\n",
       "      <th>session_id</th>\n",
       "      <th>index</th>\n",
       "      <th>elapsed_time</th>\n",
       "      <th>event_name</th>\n",
       "      <th>name</th>\n",
       "      <th>level</th>\n",
       "      <th>page</th>\n",
       "      <th>room_coor_x</th>\n",
       "      <th>room_coor_y</th>\n",
       "      <th>screen_coor_x</th>\n",
       "      <th>screen_coor_y</th>\n",
       "      <th>hover_duration</th>\n",
       "      <th>text</th>\n",
       "      <th>fqid</th>\n",
       "      <th>room_fqid</th>\n",
       "      <th>text_fqid</th>\n",
       "      <th>fullscreen</th>\n",
       "      <th>hq</th>\n",
       "      <th>music</th>\n",
       "      <th>level_group</th>\n",
       "    </tr>\n",
       "  </thead>\n",
       "  <tbody>\n",
       "    <tr>\n",
       "      <th>0</th>\n",
       "      <td>20090312431273200</td>\n",
       "      <td>0</td>\n",
       "      <td>0</td>\n",
       "      <td>cutscene_click</td>\n",
       "      <td>basic</td>\n",
       "      <td>0</td>\n",
       "      <td>NaN</td>\n",
       "      <td>-413.991405</td>\n",
       "      <td>-159.314686</td>\n",
       "      <td>380.0</td>\n",
       "      <td>494.0</td>\n",
       "      <td>NaN</td>\n",
       "      <td>undefined</td>\n",
       "      <td>intro</td>\n",
       "      <td>tunic.historicalsociety.closet</td>\n",
       "      <td>tunic.historicalsociety.closet.intro</td>\n",
       "      <td>NaN</td>\n",
       "      <td>NaN</td>\n",
       "      <td>NaN</td>\n",
       "      <td>0-4</td>\n",
       "    </tr>\n",
       "    <tr>\n",
       "      <th>1</th>\n",
       "      <td>20090312431273200</td>\n",
       "      <td>1</td>\n",
       "      <td>1323</td>\n",
       "      <td>person_click</td>\n",
       "      <td>basic</td>\n",
       "      <td>0</td>\n",
       "      <td>NaN</td>\n",
       "      <td>-413.991405</td>\n",
       "      <td>-159.314686</td>\n",
       "      <td>380.0</td>\n",
       "      <td>494.0</td>\n",
       "      <td>NaN</td>\n",
       "      <td>Whatcha doing over there, Jo?</td>\n",
       "      <td>gramps</td>\n",
       "      <td>tunic.historicalsociety.closet</td>\n",
       "      <td>tunic.historicalsociety.closet.gramps.intro_0_...</td>\n",
       "      <td>NaN</td>\n",
       "      <td>NaN</td>\n",
       "      <td>NaN</td>\n",
       "      <td>0-4</td>\n",
       "    </tr>\n",
       "    <tr>\n",
       "      <th>2</th>\n",
       "      <td>20090312431273200</td>\n",
       "      <td>2</td>\n",
       "      <td>831</td>\n",
       "      <td>person_click</td>\n",
       "      <td>basic</td>\n",
       "      <td>0</td>\n",
       "      <td>NaN</td>\n",
       "      <td>-413.991405</td>\n",
       "      <td>-159.314686</td>\n",
       "      <td>380.0</td>\n",
       "      <td>494.0</td>\n",
       "      <td>NaN</td>\n",
       "      <td>Just talking to Teddy.</td>\n",
       "      <td>gramps</td>\n",
       "      <td>tunic.historicalsociety.closet</td>\n",
       "      <td>tunic.historicalsociety.closet.gramps.intro_0_...</td>\n",
       "      <td>NaN</td>\n",
       "      <td>NaN</td>\n",
       "      <td>NaN</td>\n",
       "      <td>0-4</td>\n",
       "    </tr>\n",
       "    <tr>\n",
       "      <th>3</th>\n",
       "      <td>20090312431273200</td>\n",
       "      <td>3</td>\n",
       "      <td>1147</td>\n",
       "      <td>person_click</td>\n",
       "      <td>basic</td>\n",
       "      <td>0</td>\n",
       "      <td>NaN</td>\n",
       "      <td>-413.991405</td>\n",
       "      <td>-159.314686</td>\n",
       "      <td>380.0</td>\n",
       "      <td>494.0</td>\n",
       "      <td>NaN</td>\n",
       "      <td>I gotta run to my meeting!</td>\n",
       "      <td>gramps</td>\n",
       "      <td>tunic.historicalsociety.closet</td>\n",
       "      <td>tunic.historicalsociety.closet.gramps.intro_0_...</td>\n",
       "      <td>NaN</td>\n",
       "      <td>NaN</td>\n",
       "      <td>NaN</td>\n",
       "      <td>0-4</td>\n",
       "    </tr>\n",
       "    <tr>\n",
       "      <th>4</th>\n",
       "      <td>20090312431273200</td>\n",
       "      <td>4</td>\n",
       "      <td>1863</td>\n",
       "      <td>person_click</td>\n",
       "      <td>basic</td>\n",
       "      <td>0</td>\n",
       "      <td>NaN</td>\n",
       "      <td>-412.991405</td>\n",
       "      <td>-159.314686</td>\n",
       "      <td>381.0</td>\n",
       "      <td>494.0</td>\n",
       "      <td>NaN</td>\n",
       "      <td>Can I come, Gramps?</td>\n",
       "      <td>gramps</td>\n",
       "      <td>tunic.historicalsociety.closet</td>\n",
       "      <td>tunic.historicalsociety.closet.gramps.intro_0_...</td>\n",
       "      <td>NaN</td>\n",
       "      <td>NaN</td>\n",
       "      <td>NaN</td>\n",
       "      <td>0-4</td>\n",
       "    </tr>\n",
       "  </tbody>\n",
       "</table>\n",
       "</div>"
      ],
      "text/plain": [
       "          session_id  index  elapsed_time      event_name   name  level  page  \\\n",
       "0  20090312431273200      0             0  cutscene_click  basic      0   NaN   \n",
       "1  20090312431273200      1          1323    person_click  basic      0   NaN   \n",
       "2  20090312431273200      2           831    person_click  basic      0   NaN   \n",
       "3  20090312431273200      3          1147    person_click  basic      0   NaN   \n",
       "4  20090312431273200      4          1863    person_click  basic      0   NaN   \n",
       "\n",
       "   room_coor_x  room_coor_y  screen_coor_x  screen_coor_y  hover_duration  \\\n",
       "0  -413.991405  -159.314686          380.0          494.0             NaN   \n",
       "1  -413.991405  -159.314686          380.0          494.0             NaN   \n",
       "2  -413.991405  -159.314686          380.0          494.0             NaN   \n",
       "3  -413.991405  -159.314686          380.0          494.0             NaN   \n",
       "4  -412.991405  -159.314686          381.0          494.0             NaN   \n",
       "\n",
       "                            text    fqid                       room_fqid  \\\n",
       "0                      undefined   intro  tunic.historicalsociety.closet   \n",
       "1  Whatcha doing over there, Jo?  gramps  tunic.historicalsociety.closet   \n",
       "2         Just talking to Teddy.  gramps  tunic.historicalsociety.closet   \n",
       "3     I gotta run to my meeting!  gramps  tunic.historicalsociety.closet   \n",
       "4            Can I come, Gramps?  gramps  tunic.historicalsociety.closet   \n",
       "\n",
       "                                           text_fqid  fullscreen  hq  music  \\\n",
       "0               tunic.historicalsociety.closet.intro         NaN NaN    NaN   \n",
       "1  tunic.historicalsociety.closet.gramps.intro_0_...         NaN NaN    NaN   \n",
       "2  tunic.historicalsociety.closet.gramps.intro_0_...         NaN NaN    NaN   \n",
       "3  tunic.historicalsociety.closet.gramps.intro_0_...         NaN NaN    NaN   \n",
       "4  tunic.historicalsociety.closet.gramps.intro_0_...         NaN NaN    NaN   \n",
       "\n",
       "  level_group  \n",
       "0         0-4  \n",
       "1         0-4  \n",
       "2         0-4  \n",
       "3         0-4  \n",
       "4         0-4  "
      ]
     },
     "execution_count": 4,
     "metadata": {},
     "output_type": "execute_result"
    }
   ],
   "source": [
    "train = pd.read_csv(\"/kaggle/input/predict-student-performance-from-game-play/train.csv\")\n",
    "train.head()"
   ]
  },
  {
   "cell_type": "code",
   "execution_count": 5,
   "id": "88ebe9eb",
   "metadata": {
    "execution": {
     "iopub.execute_input": "2023-03-06T05:55:06.360946Z",
     "iopub.status.busy": "2023-03-06T05:55:06.360268Z",
     "iopub.status.idle": "2023-03-06T05:55:23.109681Z",
     "shell.execute_reply": "2023-03-06T05:55:23.108835Z"
    },
    "papermill": {
     "duration": 16.763001,
     "end_time": "2023-03-06T05:55:23.112715",
     "exception": false,
     "start_time": "2023-03-06T05:55:06.349714",
     "status": "completed"
    },
    "tags": []
   },
   "outputs": [
    {
     "name": "stdout",
     "output_type": "stream",
     "text": [
      "Memory usage of dataframe is 2010.23 MB\n",
      "Memory usage became:  778.9939136505127  MB\n",
      "<class 'pandas.core.frame.DataFrame'>\n",
      "RangeIndex: 13174211 entries, 0 to 13174210\n",
      "Data columns (total 20 columns):\n",
      " #   Column          Dtype   \n",
      "---  ------          -----   \n",
      " 0   session_id      int64   \n",
      " 1   index           int16   \n",
      " 2   elapsed_time    int32   \n",
      " 3   event_name      category\n",
      " 4   name            category\n",
      " 5   level           int8    \n",
      " 6   page            float16 \n",
      " 7   room_coor_x     float16 \n",
      " 8   room_coor_y     float16 \n",
      " 9   screen_coor_x   float16 \n",
      " 10  screen_coor_y   float16 \n",
      " 11  hover_duration  float32 \n",
      " 12  text            category\n",
      " 13  fqid            category\n",
      " 14  room_fqid       category\n",
      " 15  text_fqid       category\n",
      " 16  fullscreen      float64 \n",
      " 17  hq              float64 \n",
      " 18  music           float64 \n",
      " 19  level_group     category\n",
      "dtypes: category(7), float16(5), float32(1), float64(3), int16(1), int32(1), int64(1), int8(1)\n",
      "memory usage: 779.0 MB\n"
     ]
    }
   ],
   "source": [
    "train = reduce_memory_usage(train)\n",
    "train.info()"
   ]
  },
  {
   "cell_type": "code",
   "execution_count": 6,
   "id": "64f5acf9",
   "metadata": {
    "execution": {
     "iopub.execute_input": "2023-03-06T05:55:23.134233Z",
     "iopub.status.busy": "2023-03-06T05:55:23.133056Z",
     "iopub.status.idle": "2023-03-06T05:55:23.140407Z",
     "shell.execute_reply": "2023-03-06T05:55:23.139073Z"
    },
    "papermill": {
     "duration": 0.020223,
     "end_time": "2023-03-06T05:55:23.143083",
     "exception": false,
     "start_time": "2023-03-06T05:55:23.122860",
     "status": "completed"
    },
    "tags": []
   },
   "outputs": [
    {
     "data": {
      "text/plain": [
       "(13174211, 20)"
      ]
     },
     "execution_count": 6,
     "metadata": {},
     "output_type": "execute_result"
    }
   ],
   "source": [
    "train.shape"
   ]
  },
  {
   "cell_type": "code",
   "execution_count": 7,
   "id": "80f55a56",
   "metadata": {
    "execution": {
     "iopub.execute_input": "2023-03-06T05:55:23.164640Z",
     "iopub.status.busy": "2023-03-06T05:55:23.163849Z",
     "iopub.status.idle": "2023-03-06T05:55:23.304745Z",
     "shell.execute_reply": "2023-03-06T05:55:23.303735Z"
    },
    "papermill": {
     "duration": 0.153854,
     "end_time": "2023-03-06T05:55:23.307198",
     "exception": false,
     "start_time": "2023-03-06T05:55:23.153344",
     "status": "completed"
    },
    "tags": []
   },
   "outputs": [
    {
     "data": {
      "text/plain": [
       "81"
      ]
     },
     "execution_count": 7,
     "metadata": {},
     "output_type": "execute_result"
    }
   ],
   "source": [
    "import gc\n",
    "gc.collect()"
   ]
  },
  {
   "cell_type": "code",
   "execution_count": 8,
   "id": "509b4a4d",
   "metadata": {
    "execution": {
     "iopub.execute_input": "2023-03-06T05:55:23.327738Z",
     "iopub.status.busy": "2023-03-06T05:55:23.327068Z",
     "iopub.status.idle": "2023-03-06T05:55:23.584432Z",
     "shell.execute_reply": "2023-03-06T05:55:23.583431Z"
    },
    "papermill": {
     "duration": 0.270634,
     "end_time": "2023-03-06T05:55:23.587097",
     "exception": false,
     "start_time": "2023-03-06T05:55:23.316463",
     "status": "completed"
    },
    "tags": []
   },
   "outputs": [
    {
     "data": {
      "text/html": [
       "<div>\n",
       "<style scoped>\n",
       "    .dataframe tbody tr th:only-of-type {\n",
       "        vertical-align: middle;\n",
       "    }\n",
       "\n",
       "    .dataframe tbody tr th {\n",
       "        vertical-align: top;\n",
       "    }\n",
       "\n",
       "    .dataframe thead th {\n",
       "        text-align: right;\n",
       "    }\n",
       "</style>\n",
       "<table border=\"1\" class=\"dataframe\">\n",
       "  <thead>\n",
       "    <tr style=\"text-align: right;\">\n",
       "      <th></th>\n",
       "      <th>session_id</th>\n",
       "      <th>correct</th>\n",
       "    </tr>\n",
       "  </thead>\n",
       "  <tbody>\n",
       "    <tr>\n",
       "      <th>0</th>\n",
       "      <td>20090312431273200_q1</td>\n",
       "      <td>1</td>\n",
       "    </tr>\n",
       "    <tr>\n",
       "      <th>1</th>\n",
       "      <td>20090312433251036_q1</td>\n",
       "      <td>0</td>\n",
       "    </tr>\n",
       "    <tr>\n",
       "      <th>2</th>\n",
       "      <td>20090314121766812_q1</td>\n",
       "      <td>1</td>\n",
       "    </tr>\n",
       "    <tr>\n",
       "      <th>3</th>\n",
       "      <td>20090314363702160_q1</td>\n",
       "      <td>1</td>\n",
       "    </tr>\n",
       "    <tr>\n",
       "      <th>4</th>\n",
       "      <td>20090314441803444_q1</td>\n",
       "      <td>1</td>\n",
       "    </tr>\n",
       "  </tbody>\n",
       "</table>\n",
       "</div>"
      ],
      "text/plain": [
       "             session_id  correct\n",
       "0  20090312431273200_q1        1\n",
       "1  20090312433251036_q1        0\n",
       "2  20090314121766812_q1        1\n",
       "3  20090314363702160_q1        1\n",
       "4  20090314441803444_q1        1"
      ]
     },
     "execution_count": 8,
     "metadata": {},
     "output_type": "execute_result"
    }
   ],
   "source": [
    "target = pd.read_csv(\"/kaggle/input/predict-student-performance-from-game-play/train_labels.csv\")\n",
    "target.head()"
   ]
  },
  {
   "cell_type": "code",
   "execution_count": 9,
   "id": "4b8fee26",
   "metadata": {
    "execution": {
     "iopub.execute_input": "2023-03-06T05:55:23.608050Z",
     "iopub.status.busy": "2023-03-06T05:55:23.607405Z",
     "iopub.status.idle": "2023-03-06T05:55:23.996734Z",
     "shell.execute_reply": "2023-03-06T05:55:23.995830Z"
    },
    "papermill": {
     "duration": 0.402887,
     "end_time": "2023-03-06T05:55:23.999410",
     "exception": false,
     "start_time": "2023-03-06T05:55:23.596523",
     "status": "completed"
    },
    "tags": []
   },
   "outputs": [
    {
     "name": "stdout",
     "output_type": "stream",
     "text": [
      "(212022, 4)\n"
     ]
    },
    {
     "data": {
      "text/html": [
       "<div>\n",
       "<style scoped>\n",
       "    .dataframe tbody tr th:only-of-type {\n",
       "        vertical-align: middle;\n",
       "    }\n",
       "\n",
       "    .dataframe tbody tr th {\n",
       "        vertical-align: top;\n",
       "    }\n",
       "\n",
       "    .dataframe thead th {\n",
       "        text-align: right;\n",
       "    }\n",
       "</style>\n",
       "<table border=\"1\" class=\"dataframe\">\n",
       "  <thead>\n",
       "    <tr style=\"text-align: right;\">\n",
       "      <th></th>\n",
       "      <th>session_id</th>\n",
       "      <th>correct</th>\n",
       "      <th>session</th>\n",
       "      <th>q</th>\n",
       "    </tr>\n",
       "  </thead>\n",
       "  <tbody>\n",
       "    <tr>\n",
       "      <th>0</th>\n",
       "      <td>20090312431273200_q1</td>\n",
       "      <td>1</td>\n",
       "      <td>20090312431273200</td>\n",
       "      <td>1</td>\n",
       "    </tr>\n",
       "    <tr>\n",
       "      <th>1</th>\n",
       "      <td>20090312433251036_q1</td>\n",
       "      <td>0</td>\n",
       "      <td>20090312433251036</td>\n",
       "      <td>1</td>\n",
       "    </tr>\n",
       "    <tr>\n",
       "      <th>2</th>\n",
       "      <td>20090314121766812_q1</td>\n",
       "      <td>1</td>\n",
       "      <td>20090314121766812</td>\n",
       "      <td>1</td>\n",
       "    </tr>\n",
       "    <tr>\n",
       "      <th>3</th>\n",
       "      <td>20090314363702160_q1</td>\n",
       "      <td>1</td>\n",
       "      <td>20090314363702160</td>\n",
       "      <td>1</td>\n",
       "    </tr>\n",
       "    <tr>\n",
       "      <th>4</th>\n",
       "      <td>20090314441803444_q1</td>\n",
       "      <td>1</td>\n",
       "      <td>20090314441803444</td>\n",
       "      <td>1</td>\n",
       "    </tr>\n",
       "  </tbody>\n",
       "</table>\n",
       "</div>"
      ],
      "text/plain": [
       "             session_id  correct            session  q\n",
       "0  20090312431273200_q1        1  20090312431273200  1\n",
       "1  20090312433251036_q1        0  20090312433251036  1\n",
       "2  20090314121766812_q1        1  20090314121766812  1\n",
       "3  20090314363702160_q1        1  20090314363702160  1\n",
       "4  20090314441803444_q1        1  20090314441803444  1"
      ]
     },
     "execution_count": 9,
     "metadata": {},
     "output_type": "execute_result"
    }
   ],
   "source": [
    "target['session'] = target.session_id.apply(lambda x: int(x.split('_')[0]) )\n",
    "target['q'] = target.session_id.apply(lambda x: int(x.split('_')[-1][1:]) )\n",
    "print( target.shape )\n",
    "target.head()"
   ]
  },
  {
   "cell_type": "code",
   "execution_count": 10,
   "id": "9ebdecdf",
   "metadata": {
    "execution": {
     "iopub.execute_input": "2023-03-06T05:55:24.021109Z",
     "iopub.status.busy": "2023-03-06T05:55:24.019977Z",
     "iopub.status.idle": "2023-03-06T05:55:24.157219Z",
     "shell.execute_reply": "2023-03-06T05:55:24.156121Z"
    },
    "papermill": {
     "duration": 0.150729,
     "end_time": "2023-03-06T05:55:24.159748",
     "exception": false,
     "start_time": "2023-03-06T05:55:24.009019",
     "status": "completed"
    },
    "tags": []
   },
   "outputs": [
    {
     "data": {
      "text/plain": [
       "63"
      ]
     },
     "execution_count": 10,
     "metadata": {},
     "output_type": "execute_result"
    }
   ],
   "source": [
    "gc.collect()"
   ]
  },
  {
   "cell_type": "code",
   "execution_count": 11,
   "id": "ca5cc570",
   "metadata": {
    "execution": {
     "iopub.execute_input": "2023-03-06T05:55:24.182865Z",
     "iopub.status.busy": "2023-03-06T05:55:24.181758Z",
     "iopub.status.idle": "2023-03-06T05:55:24.189892Z",
     "shell.execute_reply": "2023-03-06T05:55:24.188925Z"
    },
    "papermill": {
     "duration": 0.022084,
     "end_time": "2023-03-06T05:55:24.192280",
     "exception": false,
     "start_time": "2023-03-06T05:55:24.170196",
     "status": "completed"
    },
    "tags": []
   },
   "outputs": [],
   "source": [
    "def summary(df):\n",
    "    print(f'data shape: {df.shape}')\n",
    "    summ = pd.DataFrame(df.dtypes, columns=['data type'])\n",
    "    summ['#missing'] = df.isnull().sum().values * 100\n",
    "    summ['%missing'] = df.isnull().sum().values / len(df)\n",
    "    summ['#unique'] = df.nunique().values\n",
    "    desc = pd.DataFrame(df.describe(include='all').transpose())\n",
    "    summ['min'] = desc['min'].values\n",
    "    summ['max'] = desc['max'].values\n",
    "    summ['first value'] = df.loc[0].values\n",
    "    summ['second value'] = df.loc[1].values\n",
    "    summ['third value'] = df.loc[2].values\n",
    "    \n",
    "    return summ"
   ]
  },
  {
   "cell_type": "code",
   "execution_count": 12,
   "id": "c9bab200",
   "metadata": {
    "execution": {
     "iopub.execute_input": "2023-03-06T05:55:24.214329Z",
     "iopub.status.busy": "2023-03-06T05:55:24.213472Z",
     "iopub.status.idle": "2023-03-06T05:55:43.190427Z",
     "shell.execute_reply": "2023-03-06T05:55:43.189285Z"
    },
    "papermill": {
     "duration": 18.991229,
     "end_time": "2023-03-06T05:55:43.193200",
     "exception": false,
     "start_time": "2023-03-06T05:55:24.201971",
     "status": "completed"
    },
    "tags": []
   },
   "outputs": [
    {
     "name": "stdout",
     "output_type": "stream",
     "text": [
      "data shape: (13174211, 20)\n"
     ]
    },
    {
     "data": {
      "text/html": [
       "<div>\n",
       "<style scoped>\n",
       "    .dataframe tbody tr th:only-of-type {\n",
       "        vertical-align: middle;\n",
       "    }\n",
       "\n",
       "    .dataframe tbody tr th {\n",
       "        vertical-align: top;\n",
       "    }\n",
       "\n",
       "    .dataframe thead th {\n",
       "        text-align: right;\n",
       "    }\n",
       "</style>\n",
       "<table border=\"1\" class=\"dataframe\">\n",
       "  <thead>\n",
       "    <tr style=\"text-align: right;\">\n",
       "      <th></th>\n",
       "      <th>data type</th>\n",
       "      <th>#missing</th>\n",
       "      <th>%missing</th>\n",
       "      <th>#unique</th>\n",
       "      <th>min</th>\n",
       "      <th>max</th>\n",
       "      <th>first value</th>\n",
       "      <th>second value</th>\n",
       "      <th>third value</th>\n",
       "    </tr>\n",
       "  </thead>\n",
       "  <tbody>\n",
       "    <tr>\n",
       "      <th>session_id</th>\n",
       "      <td>int64</td>\n",
       "      <td>0</td>\n",
       "      <td>0.000000</td>\n",
       "      <td>11779</td>\n",
       "      <td>20090312431273200.0</td>\n",
       "      <td>22100221145014656.0</td>\n",
       "      <td>20090312431273200</td>\n",
       "      <td>20090312431273200</td>\n",
       "      <td>20090312431273200</td>\n",
       "    </tr>\n",
       "    <tr>\n",
       "      <th>index</th>\n",
       "      <td>int16</td>\n",
       "      <td>0</td>\n",
       "      <td>0.000000</td>\n",
       "      <td>20348</td>\n",
       "      <td>0.0</td>\n",
       "      <td>20473.0</td>\n",
       "      <td>0</td>\n",
       "      <td>1</td>\n",
       "      <td>2</td>\n",
       "    </tr>\n",
       "    <tr>\n",
       "      <th>elapsed_time</th>\n",
       "      <td>int32</td>\n",
       "      <td>0</td>\n",
       "      <td>0.000000</td>\n",
       "      <td>3804019</td>\n",
       "      <td>0.0</td>\n",
       "      <td>1749293395.0</td>\n",
       "      <td>0</td>\n",
       "      <td>1323</td>\n",
       "      <td>831</td>\n",
       "    </tr>\n",
       "    <tr>\n",
       "      <th>event_name</th>\n",
       "      <td>category</td>\n",
       "      <td>0</td>\n",
       "      <td>0.000000</td>\n",
       "      <td>11</td>\n",
       "      <td>NaN</td>\n",
       "      <td>NaN</td>\n",
       "      <td>cutscene_click</td>\n",
       "      <td>person_click</td>\n",
       "      <td>person_click</td>\n",
       "    </tr>\n",
       "    <tr>\n",
       "      <th>name</th>\n",
       "      <td>category</td>\n",
       "      <td>0</td>\n",
       "      <td>0.000000</td>\n",
       "      <td>6</td>\n",
       "      <td>NaN</td>\n",
       "      <td>NaN</td>\n",
       "      <td>basic</td>\n",
       "      <td>basic</td>\n",
       "      <td>basic</td>\n",
       "    </tr>\n",
       "    <tr>\n",
       "      <th>level</th>\n",
       "      <td>int8</td>\n",
       "      <td>0</td>\n",
       "      <td>0.000000</td>\n",
       "      <td>23</td>\n",
       "      <td>0.0</td>\n",
       "      <td>22.0</td>\n",
       "      <td>0</td>\n",
       "      <td>0</td>\n",
       "      <td>0</td>\n",
       "    </tr>\n",
       "    <tr>\n",
       "      <th>page</th>\n",
       "      <td>float16</td>\n",
       "      <td>1288946500</td>\n",
       "      <td>0.978386</td>\n",
       "      <td>7</td>\n",
       "      <td>0.0</td>\n",
       "      <td>6.0</td>\n",
       "      <td>NaN</td>\n",
       "      <td>NaN</td>\n",
       "      <td>NaN</td>\n",
       "    </tr>\n",
       "    <tr>\n",
       "      <th>room_coor_x</th>\n",
       "      <td>float16</td>\n",
       "      <td>103624000</td>\n",
       "      <td>0.078657</td>\n",
       "      <td>28082</td>\n",
       "      <td>-1992.0</td>\n",
       "      <td>1262.0</td>\n",
       "      <td>-414.0</td>\n",
       "      <td>-414.0</td>\n",
       "      <td>-414.0</td>\n",
       "    </tr>\n",
       "    <tr>\n",
       "      <th>room_coor_y</th>\n",
       "      <td>float16</td>\n",
       "      <td>103624000</td>\n",
       "      <td>0.078657</td>\n",
       "      <td>25809</td>\n",
       "      <td>-918.0</td>\n",
       "      <td>543.5</td>\n",
       "      <td>-159.375</td>\n",
       "      <td>-159.375</td>\n",
       "      <td>-159.375</td>\n",
       "    </tr>\n",
       "    <tr>\n",
       "      <th>screen_coor_x</th>\n",
       "      <td>float16</td>\n",
       "      <td>103624000</td>\n",
       "      <td>0.078657</td>\n",
       "      <td>6266</td>\n",
       "      <td>0.0</td>\n",
       "      <td>1916.0</td>\n",
       "      <td>380.0</td>\n",
       "      <td>380.0</td>\n",
       "      <td>380.0</td>\n",
       "    </tr>\n",
       "    <tr>\n",
       "      <th>screen_coor_y</th>\n",
       "      <td>float16</td>\n",
       "      <td>103624000</td>\n",
       "      <td>0.078657</td>\n",
       "      <td>4690</td>\n",
       "      <td>0.0</td>\n",
       "      <td>1439.0</td>\n",
       "      <td>494.0</td>\n",
       "      <td>494.0</td>\n",
       "      <td>494.0</td>\n",
       "    </tr>\n",
       "    <tr>\n",
       "      <th>hover_duration</th>\n",
       "      <td>float32</td>\n",
       "      <td>1217347400</td>\n",
       "      <td>0.924038</td>\n",
       "      <td>19474</td>\n",
       "      <td>0.0</td>\n",
       "      <td>219907808.0</td>\n",
       "      <td>NaN</td>\n",
       "      <td>NaN</td>\n",
       "      <td>NaN</td>\n",
       "    </tr>\n",
       "    <tr>\n",
       "      <th>text</th>\n",
       "      <td>category</td>\n",
       "      <td>836732000</td>\n",
       "      <td>0.635129</td>\n",
       "      <td>594</td>\n",
       "      <td>NaN</td>\n",
       "      <td>NaN</td>\n",
       "      <td>undefined</td>\n",
       "      <td>Whatcha doing over there, Jo?</td>\n",
       "      <td>Just talking to Teddy.</td>\n",
       "    </tr>\n",
       "    <tr>\n",
       "      <th>fqid</th>\n",
       "      <td>category</td>\n",
       "      <td>415964800</td>\n",
       "      <td>0.315742</td>\n",
       "      <td>127</td>\n",
       "      <td>NaN</td>\n",
       "      <td>NaN</td>\n",
       "      <td>intro</td>\n",
       "      <td>gramps</td>\n",
       "      <td>gramps</td>\n",
       "    </tr>\n",
       "    <tr>\n",
       "      <th>room_fqid</th>\n",
       "      <td>category</td>\n",
       "      <td>0</td>\n",
       "      <td>0.000000</td>\n",
       "      <td>19</td>\n",
       "      <td>NaN</td>\n",
       "      <td>NaN</td>\n",
       "      <td>tunic.historicalsociety.closet</td>\n",
       "      <td>tunic.historicalsociety.closet</td>\n",
       "      <td>tunic.historicalsociety.closet</td>\n",
       "    </tr>\n",
       "    <tr>\n",
       "      <th>text_fqid</th>\n",
       "      <td>category</td>\n",
       "      <td>836726600</td>\n",
       "      <td>0.635125</td>\n",
       "      <td>126</td>\n",
       "      <td>NaN</td>\n",
       "      <td>NaN</td>\n",
       "      <td>tunic.historicalsociety.closet.intro</td>\n",
       "      <td>tunic.historicalsociety.closet.gramps.intro_0_...</td>\n",
       "      <td>tunic.historicalsociety.closet.gramps.intro_0_...</td>\n",
       "    </tr>\n",
       "    <tr>\n",
       "      <th>fullscreen</th>\n",
       "      <td>float64</td>\n",
       "      <td>1317421100</td>\n",
       "      <td>1.000000</td>\n",
       "      <td>0</td>\n",
       "      <td>NaN</td>\n",
       "      <td>NaN</td>\n",
       "      <td>NaN</td>\n",
       "      <td>NaN</td>\n",
       "      <td>NaN</td>\n",
       "    </tr>\n",
       "    <tr>\n",
       "      <th>hq</th>\n",
       "      <td>float64</td>\n",
       "      <td>1317421100</td>\n",
       "      <td>1.000000</td>\n",
       "      <td>0</td>\n",
       "      <td>NaN</td>\n",
       "      <td>NaN</td>\n",
       "      <td>NaN</td>\n",
       "      <td>NaN</td>\n",
       "      <td>NaN</td>\n",
       "    </tr>\n",
       "    <tr>\n",
       "      <th>music</th>\n",
       "      <td>float64</td>\n",
       "      <td>1317421100</td>\n",
       "      <td>1.000000</td>\n",
       "      <td>0</td>\n",
       "      <td>NaN</td>\n",
       "      <td>NaN</td>\n",
       "      <td>NaN</td>\n",
       "      <td>NaN</td>\n",
       "      <td>NaN</td>\n",
       "    </tr>\n",
       "    <tr>\n",
       "      <th>level_group</th>\n",
       "      <td>category</td>\n",
       "      <td>0</td>\n",
       "      <td>0.000000</td>\n",
       "      <td>3</td>\n",
       "      <td>NaN</td>\n",
       "      <td>NaN</td>\n",
       "      <td>0-4</td>\n",
       "      <td>0-4</td>\n",
       "      <td>0-4</td>\n",
       "    </tr>\n",
       "  </tbody>\n",
       "</table>\n",
       "</div>"
      ],
      "text/plain": [
       "               data type    #missing  %missing  #unique                  min  \\\n",
       "session_id         int64           0  0.000000    11779  20090312431273200.0   \n",
       "index              int16           0  0.000000    20348                  0.0   \n",
       "elapsed_time       int32           0  0.000000  3804019                  0.0   \n",
       "event_name      category           0  0.000000       11                  NaN   \n",
       "name            category           0  0.000000        6                  NaN   \n",
       "level               int8           0  0.000000       23                  0.0   \n",
       "page             float16  1288946500  0.978386        7                  0.0   \n",
       "room_coor_x      float16   103624000  0.078657    28082              -1992.0   \n",
       "room_coor_y      float16   103624000  0.078657    25809               -918.0   \n",
       "screen_coor_x    float16   103624000  0.078657     6266                  0.0   \n",
       "screen_coor_y    float16   103624000  0.078657     4690                  0.0   \n",
       "hover_duration   float32  1217347400  0.924038    19474                  0.0   \n",
       "text            category   836732000  0.635129      594                  NaN   \n",
       "fqid            category   415964800  0.315742      127                  NaN   \n",
       "room_fqid       category           0  0.000000       19                  NaN   \n",
       "text_fqid       category   836726600  0.635125      126                  NaN   \n",
       "fullscreen       float64  1317421100  1.000000        0                  NaN   \n",
       "hq               float64  1317421100  1.000000        0                  NaN   \n",
       "music            float64  1317421100  1.000000        0                  NaN   \n",
       "level_group     category           0  0.000000        3                  NaN   \n",
       "\n",
       "                                max                           first value  \\\n",
       "session_id      22100221145014656.0                     20090312431273200   \n",
       "index                       20473.0                                     0   \n",
       "elapsed_time           1749293395.0                                     0   \n",
       "event_name                      NaN                        cutscene_click   \n",
       "name                            NaN                                 basic   \n",
       "level                          22.0                                     0   \n",
       "page                            6.0                                   NaN   \n",
       "room_coor_x                  1262.0                                -414.0   \n",
       "room_coor_y                   543.5                              -159.375   \n",
       "screen_coor_x                1916.0                                 380.0   \n",
       "screen_coor_y                1439.0                                 494.0   \n",
       "hover_duration          219907808.0                                   NaN   \n",
       "text                            NaN                             undefined   \n",
       "fqid                            NaN                                 intro   \n",
       "room_fqid                       NaN        tunic.historicalsociety.closet   \n",
       "text_fqid                       NaN  tunic.historicalsociety.closet.intro   \n",
       "fullscreen                      NaN                                   NaN   \n",
       "hq                              NaN                                   NaN   \n",
       "music                           NaN                                   NaN   \n",
       "level_group                     NaN                                   0-4   \n",
       "\n",
       "                                                     second value  \\\n",
       "session_id                                      20090312431273200   \n",
       "index                                                           1   \n",
       "elapsed_time                                                 1323   \n",
       "event_name                                           person_click   \n",
       "name                                                        basic   \n",
       "level                                                           0   \n",
       "page                                                          NaN   \n",
       "room_coor_x                                                -414.0   \n",
       "room_coor_y                                              -159.375   \n",
       "screen_coor_x                                               380.0   \n",
       "screen_coor_y                                               494.0   \n",
       "hover_duration                                                NaN   \n",
       "text                                Whatcha doing over there, Jo?   \n",
       "fqid                                                       gramps   \n",
       "room_fqid                          tunic.historicalsociety.closet   \n",
       "text_fqid       tunic.historicalsociety.closet.gramps.intro_0_...   \n",
       "fullscreen                                                    NaN   \n",
       "hq                                                            NaN   \n",
       "music                                                         NaN   \n",
       "level_group                                                   0-4   \n",
       "\n",
       "                                                      third value  \n",
       "session_id                                      20090312431273200  \n",
       "index                                                           2  \n",
       "elapsed_time                                                  831  \n",
       "event_name                                           person_click  \n",
       "name                                                        basic  \n",
       "level                                                           0  \n",
       "page                                                          NaN  \n",
       "room_coor_x                                                -414.0  \n",
       "room_coor_y                                              -159.375  \n",
       "screen_coor_x                                               380.0  \n",
       "screen_coor_y                                               494.0  \n",
       "hover_duration                                                NaN  \n",
       "text                                       Just talking to Teddy.  \n",
       "fqid                                                       gramps  \n",
       "room_fqid                          tunic.historicalsociety.closet  \n",
       "text_fqid       tunic.historicalsociety.closet.gramps.intro_0_...  \n",
       "fullscreen                                                    NaN  \n",
       "hq                                                            NaN  \n",
       "music                                                         NaN  \n",
       "level_group                                                   0-4  "
      ]
     },
     "execution_count": 12,
     "metadata": {},
     "output_type": "execute_result"
    }
   ],
   "source": [
    "summary_table = summary(train)\n",
    "summary_table"
   ]
  },
  {
   "cell_type": "markdown",
   "id": "2817f5d3",
   "metadata": {
    "papermill": {
     "duration": 0.009903,
     "end_time": "2023-03-06T05:55:43.214234",
     "exception": false,
     "start_time": "2023-03-06T05:55:43.204331",
     "status": "completed"
    },
    "tags": []
   },
   "source": [
    "Feature Engineering"
   ]
  },
  {
   "cell_type": "code",
   "execution_count": 13,
   "id": "74de5fb8",
   "metadata": {
    "execution": {
     "iopub.execute_input": "2023-03-06T05:55:43.237107Z",
     "iopub.status.busy": "2023-03-06T05:55:43.236380Z",
     "iopub.status.idle": "2023-03-06T05:55:43.241205Z",
     "shell.execute_reply": "2023-03-06T05:55:43.240262Z"
    },
    "papermill": {
     "duration": 0.018873,
     "end_time": "2023-03-06T05:55:43.243448",
     "exception": false,
     "start_time": "2023-03-06T05:55:43.224575",
     "status": "completed"
    },
    "tags": []
   },
   "outputs": [],
   "source": [
    "CATS = ['event_name', 'fqid', 'room_fqid', 'text']\n",
    "NUMS = ['elapsed_time','level','page','room_coor_x', 'room_coor_y','screen_coor_x', 'screen_coor_y', 'hover_duration']\n"
   ]
  },
  {
   "cell_type": "code",
   "execution_count": 14,
   "id": "b749075c",
   "metadata": {
    "execution": {
     "iopub.execute_input": "2023-03-06T05:55:43.266550Z",
     "iopub.status.busy": "2023-03-06T05:55:43.265768Z",
     "iopub.status.idle": "2023-03-06T05:55:43.921603Z",
     "shell.execute_reply": "2023-03-06T05:55:43.920525Z"
    },
    "papermill": {
     "duration": 0.671561,
     "end_time": "2023-03-06T05:55:43.925443",
     "exception": false,
     "start_time": "2023-03-06T05:55:43.253882",
     "status": "completed"
    },
    "tags": []
   },
   "outputs": [],
   "source": [
    "#create dummies\n",
    "just_dummies = pd.get_dummies(train['event_name'])\n",
    "\n",
    "train = pd.concat([train, just_dummies], axis=1)"
   ]
  },
  {
   "cell_type": "code",
   "execution_count": 15,
   "id": "e2a10168",
   "metadata": {
    "execution": {
     "iopub.execute_input": "2023-03-06T05:55:43.954355Z",
     "iopub.status.busy": "2023-03-06T05:55:43.953678Z",
     "iopub.status.idle": "2023-03-06T05:55:43.957689Z",
     "shell.execute_reply": "2023-03-06T05:55:43.956752Z"
    },
    "papermill": {
     "duration": 0.018562,
     "end_time": "2023-03-06T05:55:43.959992",
     "exception": false,
     "start_time": "2023-03-06T05:55:43.941430",
     "status": "completed"
    },
    "tags": []
   },
   "outputs": [],
   "source": [
    "# I comment this code because of the RAM issue\n",
    "# train.head()"
   ]
  },
  {
   "cell_type": "code",
   "execution_count": 16,
   "id": "e7ffba46",
   "metadata": {
    "execution": {
     "iopub.execute_input": "2023-03-06T05:55:43.983556Z",
     "iopub.status.busy": "2023-03-06T05:55:43.982739Z",
     "iopub.status.idle": "2023-03-06T05:55:44.064056Z",
     "shell.execute_reply": "2023-03-06T05:55:44.063106Z"
    },
    "papermill": {
     "duration": 0.095414,
     "end_time": "2023-03-06T05:55:44.066519",
     "exception": false,
     "start_time": "2023-03-06T05:55:43.971105",
     "status": "completed"
    },
    "tags": []
   },
   "outputs": [
    {
     "data": {
      "text/plain": [
       "navigate_click        5687896\n",
       "person_click          3024847\n",
       "cutscene_click        1351732\n",
       "object_click          1099670\n",
       "object_hover           529116\n",
       "map_hover              471621\n",
       "notification_click     324106\n",
       "notebook_click         284746\n",
       "map_click              258714\n",
       "observation_click      106260\n",
       "checkpoint              35503\n",
       "Name: event_name, dtype: int64"
      ]
     },
     "execution_count": 16,
     "metadata": {},
     "output_type": "execute_result"
    }
   ],
   "source": [
    "train['event_name'].value_counts()"
   ]
  },
  {
   "cell_type": "code",
   "execution_count": 17,
   "id": "0686c535",
   "metadata": {
    "execution": {
     "iopub.execute_input": "2023-03-06T05:55:44.090098Z",
     "iopub.status.busy": "2023-03-06T05:55:44.089003Z",
     "iopub.status.idle": "2023-03-06T05:55:44.094430Z",
     "shell.execute_reply": "2023-03-06T05:55:44.093360Z"
    },
    "papermill": {
     "duration": 0.01977,
     "end_time": "2023-03-06T05:55:44.097075",
     "exception": false,
     "start_time": "2023-03-06T05:55:44.077305",
     "status": "completed"
    },
    "tags": []
   },
   "outputs": [],
   "source": [
    "# https://www.kaggle.com/code/kimtaehun/lightgbm-baseline-with-aggregated-log-data\n",
    "EVENTS = ['navigate_click','person_click','cutscene_click','object_click',\n",
    "          'map_hover','notification_click','map_click','observation_click',\n",
    "          'checkpoint']"
   ]
  },
  {
   "cell_type": "code",
   "execution_count": 18,
   "id": "abab3944",
   "metadata": {
    "execution": {
     "iopub.execute_input": "2023-03-06T05:55:44.119851Z",
     "iopub.status.busy": "2023-03-06T05:55:44.118808Z",
     "iopub.status.idle": "2023-03-06T05:55:44.128601Z",
     "shell.execute_reply": "2023-03-06T05:55:44.127758Z"
    },
    "papermill": {
     "duration": 0.023636,
     "end_time": "2023-03-06T05:55:44.131033",
     "exception": false,
     "start_time": "2023-03-06T05:55:44.107397",
     "status": "completed"
    },
    "tags": []
   },
   "outputs": [],
   "source": [
    "def feature_engineer(train):\n",
    "    \n",
    "    dfs = []\n",
    "    for c in CATS:\n",
    "        tmp = train.groupby(['session_id','level_group'])[c].agg('nunique')\n",
    "        tmp.name = tmp.name + '_nunique'\n",
    "        dfs.append(tmp)\n",
    "    for c in NUMS:\n",
    "        tmp = train.groupby(['session_id','level_group'])[c].agg('mean')\n",
    "        tmp.name = tmp.name + '_mean'\n",
    "        dfs.append(tmp)\n",
    "    for c in NUMS:\n",
    "        tmp = train.groupby(['session_id','level_group'])[c].agg('std')\n",
    "        tmp.name = tmp.name + '_std'\n",
    "        dfs.append(tmp)\n",
    "    for c in EVENTS: \n",
    "        train[c] = (train.event_name == c).astype('int8')\n",
    "    for c in EVENTS + ['elapsed_time']:\n",
    "        tmp = train.groupby(['session_id','level_group'])[c].agg('sum')\n",
    "        tmp.name = tmp.name + '_sum'\n",
    "        dfs.append(tmp)\n",
    "    train = train.drop(EVENTS,axis=1)\n",
    "        \n",
    "    df = pd.concat(dfs,axis=1)\n",
    "    df = df.fillna(-1)\n",
    "    df = df.reset_index()\n",
    "    df = df.set_index('session_id')\n",
    "    return df"
   ]
  },
  {
   "cell_type": "code",
   "execution_count": 19,
   "id": "d10e8077",
   "metadata": {
    "execution": {
     "iopub.execute_input": "2023-03-06T05:55:44.154347Z",
     "iopub.status.busy": "2023-03-06T05:55:44.153572Z",
     "iopub.status.idle": "2023-03-06T05:56:08.282304Z",
     "shell.execute_reply": "2023-03-06T05:56:08.280646Z"
    },
    "papermill": {
     "duration": 24.143312,
     "end_time": "2023-03-06T05:56:08.284832",
     "exception": false,
     "start_time": "2023-03-06T05:55:44.141520",
     "status": "completed"
    },
    "tags": []
   },
   "outputs": [
    {
     "name": "stdout",
     "output_type": "stream",
     "text": [
      "(35337, 31)\n",
      "CPU times: user 20.8 s, sys: 3.31 s, total: 24.1 s\n",
      "Wall time: 24.1 s\n"
     ]
    },
    {
     "data": {
      "text/html": [
       "<div>\n",
       "<style scoped>\n",
       "    .dataframe tbody tr th:only-of-type {\n",
       "        vertical-align: middle;\n",
       "    }\n",
       "\n",
       "    .dataframe tbody tr th {\n",
       "        vertical-align: top;\n",
       "    }\n",
       "\n",
       "    .dataframe thead th {\n",
       "        text-align: right;\n",
       "    }\n",
       "</style>\n",
       "<table border=\"1\" class=\"dataframe\">\n",
       "  <thead>\n",
       "    <tr style=\"text-align: right;\">\n",
       "      <th></th>\n",
       "      <th>level_group</th>\n",
       "      <th>event_name_nunique</th>\n",
       "      <th>fqid_nunique</th>\n",
       "      <th>room_fqid_nunique</th>\n",
       "      <th>text_nunique</th>\n",
       "      <th>elapsed_time_mean</th>\n",
       "      <th>level_mean</th>\n",
       "      <th>page_mean</th>\n",
       "      <th>room_coor_x_mean</th>\n",
       "      <th>room_coor_y_mean</th>\n",
       "      <th>...</th>\n",
       "      <th>navigate_click_sum</th>\n",
       "      <th>person_click_sum</th>\n",
       "      <th>cutscene_click_sum</th>\n",
       "      <th>object_click_sum</th>\n",
       "      <th>map_hover_sum</th>\n",
       "      <th>notification_click_sum</th>\n",
       "      <th>map_click_sum</th>\n",
       "      <th>observation_click_sum</th>\n",
       "      <th>checkpoint_sum</th>\n",
       "      <th>elapsed_time_sum</th>\n",
       "    </tr>\n",
       "    <tr>\n",
       "      <th>session_id</th>\n",
       "      <th></th>\n",
       "      <th></th>\n",
       "      <th></th>\n",
       "      <th></th>\n",
       "      <th></th>\n",
       "      <th></th>\n",
       "      <th></th>\n",
       "      <th></th>\n",
       "      <th></th>\n",
       "      <th></th>\n",
       "      <th></th>\n",
       "      <th></th>\n",
       "      <th></th>\n",
       "      <th></th>\n",
       "      <th></th>\n",
       "      <th></th>\n",
       "      <th></th>\n",
       "      <th></th>\n",
       "      <th></th>\n",
       "      <th></th>\n",
       "      <th></th>\n",
       "    </tr>\n",
       "  </thead>\n",
       "  <tbody>\n",
       "    <tr>\n",
       "      <th>20090312431273200</th>\n",
       "      <td>0-4</td>\n",
       "      <td>10</td>\n",
       "      <td>30</td>\n",
       "      <td>7</td>\n",
       "      <td>56</td>\n",
       "      <td>8.579356e+04</td>\n",
       "      <td>1.945455</td>\n",
       "      <td>-1.000000</td>\n",
       "      <td>7.687500</td>\n",
       "      <td>-71.43750</td>\n",
       "      <td>...</td>\n",
       "      <td>81.0</td>\n",
       "      <td>22.0</td>\n",
       "      <td>28.0</td>\n",
       "      <td>11.0</td>\n",
       "      <td>4.0</td>\n",
       "      <td>8</td>\n",
       "      <td>2.0</td>\n",
       "      <td>4</td>\n",
       "      <td>1</td>\n",
       "      <td>1.415594e+07</td>\n",
       "    </tr>\n",
       "    <tr>\n",
       "      <th>20090312431273200</th>\n",
       "      <td>13-22</td>\n",
       "      <td>10</td>\n",
       "      <td>49</td>\n",
       "      <td>12</td>\n",
       "      <td>168</td>\n",
       "      <td>1.040601e+06</td>\n",
       "      <td>17.402381</td>\n",
       "      <td>-1.000000</td>\n",
       "      <td>-130.375000</td>\n",
       "      <td>-162.00000</td>\n",
       "      <td>...</td>\n",
       "      <td>170.0</td>\n",
       "      <td>123.0</td>\n",
       "      <td>60.0</td>\n",
       "      <td>20.0</td>\n",
       "      <td>14.0</td>\n",
       "      <td>10</td>\n",
       "      <td>6.0</td>\n",
       "      <td>3</td>\n",
       "      <td>1</td>\n",
       "      <td>4.370523e+08</td>\n",
       "    </tr>\n",
       "    <tr>\n",
       "      <th>20090312431273200</th>\n",
       "      <td>5-12</td>\n",
       "      <td>10</td>\n",
       "      <td>39</td>\n",
       "      <td>11</td>\n",
       "      <td>124</td>\n",
       "      <td>3.572052e+05</td>\n",
       "      <td>8.054054</td>\n",
       "      <td>-1.000000</td>\n",
       "      <td>14.304688</td>\n",
       "      <td>-57.28125</td>\n",
       "      <td>...</td>\n",
       "      <td>103.0</td>\n",
       "      <td>104.0</td>\n",
       "      <td>12.0</td>\n",
       "      <td>28.0</td>\n",
       "      <td>9.0</td>\n",
       "      <td>9</td>\n",
       "      <td>8.0</td>\n",
       "      <td>1</td>\n",
       "      <td>1</td>\n",
       "      <td>1.057327e+08</td>\n",
       "    </tr>\n",
       "    <tr>\n",
       "      <th>20090312433251036</th>\n",
       "      <td>0-4</td>\n",
       "      <td>11</td>\n",
       "      <td>22</td>\n",
       "      <td>6</td>\n",
       "      <td>49</td>\n",
       "      <td>9.763342e+04</td>\n",
       "      <td>1.870504</td>\n",
       "      <td>0.000000</td>\n",
       "      <td>-84.062500</td>\n",
       "      <td>-53.65625</td>\n",
       "      <td>...</td>\n",
       "      <td>49.0</td>\n",
       "      <td>18.0</td>\n",
       "      <td>36.0</td>\n",
       "      <td>15.0</td>\n",
       "      <td>3.0</td>\n",
       "      <td>5</td>\n",
       "      <td>3.0</td>\n",
       "      <td>2</td>\n",
       "      <td>1</td>\n",
       "      <td>1.357104e+07</td>\n",
       "    </tr>\n",
       "    <tr>\n",
       "      <th>20090312433251036</th>\n",
       "      <td>13-22</td>\n",
       "      <td>11</td>\n",
       "      <td>73</td>\n",
       "      <td>16</td>\n",
       "      <td>183</td>\n",
       "      <td>2.498852e+06</td>\n",
       "      <td>17.762529</td>\n",
       "      <td>5.101562</td>\n",
       "      <td>-30.750000</td>\n",
       "      <td>-142.87500</td>\n",
       "      <td>...</td>\n",
       "      <td>637.0</td>\n",
       "      <td>145.0</td>\n",
       "      <td>65.0</td>\n",
       "      <td>83.0</td>\n",
       "      <td>186.0</td>\n",
       "      <td>14</td>\n",
       "      <td>45.0</td>\n",
       "      <td>5</td>\n",
       "      <td>1</td>\n",
       "      <td>3.241011e+09</td>\n",
       "    </tr>\n",
       "  </tbody>\n",
       "</table>\n",
       "<p>5 rows × 31 columns</p>\n",
       "</div>"
      ],
      "text/plain": [
       "                  level_group  event_name_nunique  fqid_nunique  \\\n",
       "session_id                                                        \n",
       "20090312431273200         0-4                  10            30   \n",
       "20090312431273200       13-22                  10            49   \n",
       "20090312431273200        5-12                  10            39   \n",
       "20090312433251036         0-4                  11            22   \n",
       "20090312433251036       13-22                  11            73   \n",
       "\n",
       "                   room_fqid_nunique  text_nunique  elapsed_time_mean  \\\n",
       "session_id                                                              \n",
       "20090312431273200                  7            56       8.579356e+04   \n",
       "20090312431273200                 12           168       1.040601e+06   \n",
       "20090312431273200                 11           124       3.572052e+05   \n",
       "20090312433251036                  6            49       9.763342e+04   \n",
       "20090312433251036                 16           183       2.498852e+06   \n",
       "\n",
       "                   level_mean  page_mean  room_coor_x_mean  room_coor_y_mean  \\\n",
       "session_id                                                                     \n",
       "20090312431273200    1.945455  -1.000000          7.687500         -71.43750   \n",
       "20090312431273200   17.402381  -1.000000       -130.375000        -162.00000   \n",
       "20090312431273200    8.054054  -1.000000         14.304688         -57.28125   \n",
       "20090312433251036    1.870504   0.000000        -84.062500         -53.65625   \n",
       "20090312433251036   17.762529   5.101562        -30.750000        -142.87500   \n",
       "\n",
       "                   ...  navigate_click_sum  person_click_sum  \\\n",
       "session_id         ...                                         \n",
       "20090312431273200  ...                81.0              22.0   \n",
       "20090312431273200  ...               170.0             123.0   \n",
       "20090312431273200  ...               103.0             104.0   \n",
       "20090312433251036  ...                49.0              18.0   \n",
       "20090312433251036  ...               637.0             145.0   \n",
       "\n",
       "                   cutscene_click_sum  object_click_sum  map_hover_sum  \\\n",
       "session_id                                                               \n",
       "20090312431273200                28.0              11.0            4.0   \n",
       "20090312431273200                60.0              20.0           14.0   \n",
       "20090312431273200                12.0              28.0            9.0   \n",
       "20090312433251036                36.0              15.0            3.0   \n",
       "20090312433251036                65.0              83.0          186.0   \n",
       "\n",
       "                   notification_click_sum  map_click_sum  \\\n",
       "session_id                                                 \n",
       "20090312431273200                       8            2.0   \n",
       "20090312431273200                      10            6.0   \n",
       "20090312431273200                       9            8.0   \n",
       "20090312433251036                       5            3.0   \n",
       "20090312433251036                      14           45.0   \n",
       "\n",
       "                   observation_click_sum  checkpoint_sum  elapsed_time_sum  \n",
       "session_id                                                                  \n",
       "20090312431273200                      4               1      1.415594e+07  \n",
       "20090312431273200                      3               1      4.370523e+08  \n",
       "20090312431273200                      1               1      1.057327e+08  \n",
       "20090312433251036                      2               1      1.357104e+07  \n",
       "20090312433251036                      5               1      3.241011e+09  \n",
       "\n",
       "[5 rows x 31 columns]"
      ]
     },
     "execution_count": 19,
     "metadata": {},
     "output_type": "execute_result"
    }
   ],
   "source": [
    "%%time\n",
    "df = feature_engineer(train)\n",
    "print( df.shape )\n",
    "df.head()"
   ]
  },
  {
   "cell_type": "code",
   "execution_count": 20,
   "id": "371a0cd6",
   "metadata": {
    "execution": {
     "iopub.execute_input": "2023-03-06T05:56:08.309068Z",
     "iopub.status.busy": "2023-03-06T05:56:08.308418Z",
     "iopub.status.idle": "2023-03-06T05:56:08.444589Z",
     "shell.execute_reply": "2023-03-06T05:56:08.443631Z"
    },
    "papermill": {
     "duration": 0.151155,
     "end_time": "2023-03-06T05:56:08.447106",
     "exception": false,
     "start_time": "2023-03-06T05:56:08.295951",
     "status": "completed"
    },
    "tags": []
   },
   "outputs": [
    {
     "data": {
      "text/plain": [
       "21"
      ]
     },
     "execution_count": 20,
     "metadata": {},
     "output_type": "execute_result"
    }
   ],
   "source": [
    "gc.collect()"
   ]
  },
  {
   "cell_type": "code",
   "execution_count": 21,
   "id": "d394cc32",
   "metadata": {
    "execution": {
     "iopub.execute_input": "2023-03-06T05:56:08.472153Z",
     "iopub.status.busy": "2023-03-06T05:56:08.471514Z",
     "iopub.status.idle": "2023-03-06T05:56:08.480086Z",
     "shell.execute_reply": "2023-03-06T05:56:08.479162Z"
    },
    "papermill": {
     "duration": 0.024607,
     "end_time": "2023-03-06T05:56:08.482920",
     "exception": false,
     "start_time": "2023-03-06T05:56:08.458313",
     "status": "completed"
    },
    "tags": []
   },
   "outputs": [
    {
     "data": {
      "text/plain": [
       "level_group               category\n",
       "event_name_nunique           int64\n",
       "fqid_nunique                 int64\n",
       "room_fqid_nunique            int64\n",
       "text_nunique                 int64\n",
       "elapsed_time_mean          float64\n",
       "level_mean                 float64\n",
       "page_mean                  float16\n",
       "room_coor_x_mean           float16\n",
       "room_coor_y_mean           float16\n",
       "screen_coor_x_mean         float16\n",
       "screen_coor_y_mean         float16\n",
       "hover_duration_mean        float32\n",
       "elapsed_time_std           float64\n",
       "level_std                  float64\n",
       "page_std                   float64\n",
       "room_coor_x_std            float64\n",
       "room_coor_y_std            float64\n",
       "screen_coor_x_std          float64\n",
       "screen_coor_y_std          float64\n",
       "hover_duration_std         float64\n",
       "navigate_click_sum         float64\n",
       "person_click_sum           float64\n",
       "cutscene_click_sum         float64\n",
       "object_click_sum           float64\n",
       "map_hover_sum              float64\n",
       "notification_click_sum        int8\n",
       "map_click_sum              float64\n",
       "observation_click_sum         int8\n",
       "checkpoint_sum                int8\n",
       "elapsed_time_sum           float64\n",
       "dtype: object"
      ]
     },
     "execution_count": 21,
     "metadata": {},
     "output_type": "execute_result"
    }
   ],
   "source": [
    "#check data type\n",
    "df.dtypes"
   ]
  },
  {
   "cell_type": "code",
   "execution_count": 22,
   "id": "84b82057",
   "metadata": {
    "execution": {
     "iopub.execute_input": "2023-03-06T05:56:08.507688Z",
     "iopub.status.busy": "2023-03-06T05:56:08.506904Z",
     "iopub.status.idle": "2023-03-06T05:56:08.514588Z",
     "shell.execute_reply": "2023-03-06T05:56:08.513721Z"
    },
    "papermill": {
     "duration": 0.023686,
     "end_time": "2023-03-06T05:56:08.517923",
     "exception": false,
     "start_time": "2023-03-06T05:56:08.494237",
     "status": "completed"
    },
    "tags": []
   },
   "outputs": [
    {
     "name": "stdout",
     "output_type": "stream",
     "text": [
      "We will train with 30 features\n",
      "We will train with 11779 users info\n"
     ]
    }
   ],
   "source": [
    "FEATURES = [c for c in df.columns if c != 'level_group']\n",
    "print('We will train with', len(FEATURES) ,'features')\n",
    "ALL_USERS = df.index.unique()\n",
    "print('We will train with', len(ALL_USERS) ,'users info')"
   ]
  },
  {
   "cell_type": "markdown",
   "id": "a0f8cdb6",
   "metadata": {
    "papermill": {
     "duration": 0.011272,
     "end_time": "2023-03-06T05:56:08.541713",
     "exception": false,
     "start_time": "2023-03-06T05:56:08.530441",
     "status": "completed"
    },
    "tags": []
   },
   "source": [
    "Train XGBoost Model"
   ]
  },
  {
   "cell_type": "code",
   "execution_count": 23,
   "id": "f0118305",
   "metadata": {
    "execution": {
     "iopub.execute_input": "2023-03-06T05:56:08.567765Z",
     "iopub.status.busy": "2023-03-06T05:56:08.566978Z",
     "iopub.status.idle": "2023-03-06T05:57:48.161058Z",
     "shell.execute_reply": "2023-03-06T05:57:48.160033Z"
    },
    "papermill": {
     "duration": 99.610004,
     "end_time": "2023-03-06T05:57:48.163629",
     "exception": false,
     "start_time": "2023-03-06T05:56:08.553625",
     "status": "completed"
    },
    "tags": []
   },
   "outputs": [
    {
     "name": "stdout",
     "output_type": "stream",
     "text": [
      "#########################\n",
      "### Fold 1\n",
      "#########################\n",
      "1(144), 2(129), 3(100), 4(210), 5(90), 6(161), 7(168), 8(69), 9(114), 10(161), 11(169), 12(95), 13(151), 14(100), 15(234), 16(102), 17(76), 18(157), \n",
      "#########################\n",
      "### Fold 2\n",
      "#########################\n",
      "1(177), 2(115), 3(205), 4(110), 5(78), 6(119), 7(169), 8(46), 9(118), 10(109), 11(70), 12(67), 13(75), 14(171), 15(111), 16(68), 17(41), 18(103), \n",
      "#########################\n",
      "### Fold 3\n",
      "#########################\n",
      "1(65), 2(137), 3(101), 4(91), 5(68), 6(77), 7(78), 8(49), 9(174), 10(61), 11(79), 12(75), 13(118), 14(150), 15(194), 16(93), 17(90), 18(131), \n",
      "#########################\n",
      "### Fold 4\n",
      "#########################\n",
      "1(197), 2(109), 3(97), 4(130), 5(113), 6(84), 7(121), 8(36), 9(67), 10(84), 11(90), 12(90), 13(82), 14(119), 15(124), 16(56), 17(70), 18(163), \n",
      "#########################\n",
      "### Fold 5\n",
      "#########################\n",
      "1(162), 2(133), 3(87), 4(69), 5(58), 6(116), 7(107), 8(55), 9(150), 10(75), 11(74), 12(93), 13(80), 14(137), 15(132), 16(62), 17(89), 18(75), \n"
     ]
    }
   ],
   "source": [
    "gkf = GroupKFold(n_splits=5)\n",
    "oof = pd.DataFrame(data=np.zeros((len(ALL_USERS),18)), index=ALL_USERS)\n",
    "models = {}\n",
    "\n",
    "# COMPUTE CV SCORE WITH 5 GROUP K FOLD\n",
    "for i, (train_index, test_index) in enumerate(gkf.split(X=df, groups=df.index)):\n",
    "    print('#'*25)\n",
    "    print('### Fold',i+1)\n",
    "    print('#'*25)\n",
    "    \n",
    "    xgb_params = {\n",
    "    'objective' : 'binary:logistic',\n",
    "    'eval_metric':'logloss',\n",
    "    'learning_rate': 0.05,\n",
    "    'max_depth': 4,\n",
    "    'n_estimators': 1000,\n",
    "    'early_stopping_rounds': 50,\n",
    "    'tree_method':'hist',\n",
    "    'subsample':0.8,\n",
    "    'colsample_bytree': 0.4,\n",
    "    'use_label_encoder' : False}\n",
    "    \n",
    "    # ITERATE THRU QUESTIONS 1 THRU 18\n",
    "    for t in range(1,19):\n",
    "        \n",
    "        # USE THIS TRAIN DATA WITH THESE QUESTIONS\n",
    "        if t<=3: grp = '0-4'\n",
    "        elif t<=13: grp = '5-12'\n",
    "        elif t<=22: grp = '13-22'\n",
    "            \n",
    "        # TRAIN DATA\n",
    "        train_x = df.iloc[train_index]\n",
    "        train_x = train_x.loc[train_x.level_group == grp]\n",
    "        train_users = train_x.index.values\n",
    "        train_y = target.loc[target.q==t].set_index('session').loc[train_users]\n",
    "        \n",
    "        # VALID DATA\n",
    "        valid_x = df.iloc[test_index]\n",
    "        valid_x = valid_x.loc[valid_x.level_group == grp]\n",
    "        valid_users = valid_x.index.values\n",
    "        valid_y = target.loc[target.q==t].set_index('session').loc[valid_users]\n",
    "        \n",
    "        # TRAIN MODEL        \n",
    "        clf =  XGBClassifier(**xgb_params)\n",
    "        clf.fit(train_x[FEATURES].astype('float32'), train_y['correct'],\n",
    "                eval_set=[ (valid_x[FEATURES].astype('float32'), valid_y['correct']) ],\n",
    "                verbose=0)\n",
    "        print(f'{t}({clf.best_ntree_limit}), ',end='')\n",
    "        \n",
    "        # SAVE MODEL, PREDICT VALID OOF\n",
    "        models[f'{grp}_{t}'] = clf\n",
    "        oof.loc[valid_users, t-1] = clf.predict_proba(valid_x[FEATURES].astype('float32'))[:,1]\n",
    "        \n",
    "    print()"
   ]
  },
  {
   "cell_type": "code",
   "execution_count": 24,
   "id": "c9d2ad2f",
   "metadata": {
    "execution": {
     "iopub.execute_input": "2023-03-06T05:57:48.198658Z",
     "iopub.status.busy": "2023-03-06T05:57:48.198277Z",
     "iopub.status.idle": "2023-03-06T05:57:48.269776Z",
     "shell.execute_reply": "2023-03-06T05:57:48.268817Z"
    },
    "papermill": {
     "duration": 0.091659,
     "end_time": "2023-03-06T05:57:48.272432",
     "exception": false,
     "start_time": "2023-03-06T05:57:48.180773",
     "status": "completed"
    },
    "tags": []
   },
   "outputs": [],
   "source": [
    "# PUT TRUE LABELS INTO DATAFRAME WITH 18 COLUMNS\n",
    "true = oof.copy()\n",
    "for k in range(18):\n",
    "    # GET TRUE LABELS\n",
    "    tmp = target.loc[target.q == k+1].set_index('session').loc[ALL_USERS]\n",
    "    true[k] = tmp.correct.values"
   ]
  },
  {
   "cell_type": "code",
   "execution_count": 25,
   "id": "619f98bb",
   "metadata": {
    "execution": {
     "iopub.execute_input": "2023-03-06T05:57:48.307890Z",
     "iopub.status.busy": "2023-03-06T05:57:48.307089Z",
     "iopub.status.idle": "2023-03-06T05:57:51.464194Z",
     "shell.execute_reply": "2023-03-06T05:57:51.462777Z"
    },
    "papermill": {
     "duration": 3.177925,
     "end_time": "2023-03-06T05:57:51.467081",
     "exception": false,
     "start_time": "2023-03-06T05:57:48.289156",
     "status": "completed"
    },
    "tags": []
   },
   "outputs": [
    {
     "name": "stdout",
     "output_type": "stream",
     "text": [
      "0.40, 0.41, 0.42, 0.43, 0.44, 0.45, 0.46, 0.47, 0.48, 0.49, 0.50, 0.51, 0.52, 0.53, 0.54, 0.55, 0.56, 0.57, 0.58, 0.59, 0.60, 0.61, 0.62, 0.63, 0.64, 0.65, 0.66, 0.67, 0.68, 0.69, 0.70, 0.71, 0.72, 0.73, 0.74, 0.75, 0.76, 0.77, 0.78, 0.79, 0.80, "
     ]
    }
   ],
   "source": [
    "# FIND BEST THRESHOLD TO CONVERT PROBS INTO 1s AND 0s\n",
    "scores = []; thresholds = []\n",
    "best_score = 0; best_threshold = 0\n",
    "\n",
    "for threshold in np.arange(0.4,0.81,0.01):\n",
    "    print(f'{threshold:.02f}, ',end='')\n",
    "    preds = (oof.values.reshape((-1))>threshold).astype('int')\n",
    "    m = f1_score(true.values.reshape((-1)), preds, average='macro')   \n",
    "    scores.append(m)\n",
    "    thresholds.append(threshold)\n",
    "    if m>best_score:\n",
    "        best_score = m\n",
    "        best_threshold = threshold"
   ]
  },
  {
   "cell_type": "code",
   "execution_count": 26,
   "id": "7ea300f8",
   "metadata": {
    "execution": {
     "iopub.execute_input": "2023-03-06T05:57:51.505930Z",
     "iopub.status.busy": "2023-03-06T05:57:51.505484Z",
     "iopub.status.idle": "2023-03-06T05:57:51.784887Z",
     "shell.execute_reply": "2023-03-06T05:57:51.783949Z"
    },
    "papermill": {
     "duration": 0.302222,
     "end_time": "2023-03-06T05:57:51.787549",
     "exception": false,
     "start_time": "2023-03-06T05:57:51.485327",
     "status": "completed"
    },
    "tags": []
   },
   "outputs": [
    {
     "data": {
      "image/png": "[encoded data removed]",
      "text/plain": [
       "<Figure size 2000x500 with 1 Axes>"
      ]
     },
     "metadata": {},
     "output_type": "display_data"
    }
   ],
   "source": [
    "import matplotlib.pyplot as plt\n",
    "\n",
    "# PLOT THRESHOLD VS. F1_SCORE\n",
    "plt.figure(figsize=(20,5))\n",
    "plt.plot(thresholds,scores,'-o',color='blue')\n",
    "plt.scatter([best_threshold], [best_score], color='blue', s=300, alpha=1)\n",
    "plt.xlabel('Threshold',size=14)\n",
    "plt.ylabel('Validation F1 Score',size=14)\n",
    "plt.title(f'Threshold vs. F1_Score with Best F1_Score = {best_score:.3f} at Best Threshold = {best_threshold:.3}',size=18)\n",
    "plt.show()"
   ]
  },
  {
   "cell_type": "code",
   "execution_count": 27,
   "id": "a85de566",
   "metadata": {
    "execution": {
     "iopub.execute_input": "2023-03-06T05:57:51.832364Z",
     "iopub.status.busy": "2023-03-06T05:57:51.831983Z",
     "iopub.status.idle": "2023-03-06T05:57:51.999331Z",
     "shell.execute_reply": "2023-03-06T05:57:51.997761Z"
    },
    "papermill": {
     "duration": 0.195246,
     "end_time": "2023-03-06T05:57:52.001952",
     "exception": false,
     "start_time": "2023-03-06T05:57:51.806706",
     "status": "completed"
    },
    "tags": []
   },
   "outputs": [
    {
     "name": "stdout",
     "output_type": "stream",
     "text": [
      "When using optimal threshold...\n",
      "Q0: F1 = 0.5890601055958569\n",
      "Q1: F1 = 0.4945936668669012\n",
      "Q2: F1 = 0.4897081796084226\n",
      "Q3: F1 = 0.6079912358514885\n",
      "Q4: F1 = 0.5739871003332117\n",
      "Q5: F1 = 0.60643555964107\n",
      "Q6: F1 = 0.5866937112737562\n",
      "Q7: F1 = 0.537124911124852\n",
      "Q8: F1 = 0.6001710676325901\n",
      "Q9: F1 = 0.5102005280011247\n",
      "Q10: F1 = 0.5950573282945046\n",
      "Q11: F1 = 0.4992582579752273\n",
      "Q12: F1 = 0.4336044423365807\n",
      "Q13: F1 = 0.6030546532006967\n",
      "Q14: F1 = 0.5196048370849733\n",
      "Q15: F1 = 0.4487225111143779\n",
      "Q16: F1 = 0.5331811952051545\n",
      "Q17: F1 = 0.49387407107981585\n",
      "==> Overall F1 = 0.6780423163428528\n"
     ]
    }
   ],
   "source": [
    "print('When using optimal threshold...')\n",
    "for k in range(18):\n",
    "        \n",
    "    # COMPUTE F1 SCORE PER QUESTION\n",
    "    m = f1_score(true[k].values, (oof[k].values>best_threshold).astype('int'), average='macro')\n",
    "    print(f'Q{k}: F1 =',m)\n",
    "    \n",
    "# COMPUTE F1 SCORE OVERALL\n",
    "m = f1_score(true.values.reshape((-1)), (oof.values.reshape((-1))>best_threshold).astype('int'), average='macro')\n",
    "print('==> Overall F1 =',m)"
   ]
  },
  {
   "cell_type": "markdown",
   "id": "2a74df24",
   "metadata": {
    "papermill": {
     "duration": 0.019053,
     "end_time": "2023-03-06T05:57:52.040402",
     "exception": false,
     "start_time": "2023-03-06T05:57:52.021349",
     "status": "completed"
    },
    "tags": []
   },
   "source": [
    "Infer Test Data"
   ]
  },
  {
   "cell_type": "code",
   "execution_count": 28,
   "id": "92b1faf4",
   "metadata": {
    "execution": {
     "iopub.execute_input": "2023-03-06T05:57:52.081598Z",
     "iopub.status.busy": "2023-03-06T05:57:52.080784Z",
     "iopub.status.idle": "2023-03-06T05:57:52.108352Z",
     "shell.execute_reply": "2023-03-06T05:57:52.107343Z"
    },
    "papermill": {
     "duration": 0.051128,
     "end_time": "2023-03-06T05:57:52.110949",
     "exception": false,
     "start_time": "2023-03-06T05:57:52.059821",
     "status": "completed"
    },
    "tags": []
   },
   "outputs": [],
   "source": [
    "# IMPORT KAGGLE API\n",
    "import jo_wilder\n",
    "env = jo_wilder.make_env()\n",
    "iter_test = env.iter_test()"
   ]
  },
  {
   "cell_type": "code",
   "execution_count": 29,
   "id": "adbb580e",
   "metadata": {
    "execution": {
     "iopub.execute_input": "2023-03-06T05:57:52.151546Z",
     "iopub.status.busy": "2023-03-06T05:57:52.150883Z",
     "iopub.status.idle": "2023-03-06T05:57:52.297265Z",
     "shell.execute_reply": "2023-03-06T05:57:52.296140Z"
    },
    "papermill": {
     "duration": 0.16965,
     "end_time": "2023-03-06T05:57:52.299903",
     "exception": false,
     "start_time": "2023-03-06T05:57:52.130253",
     "status": "completed"
    },
    "tags": []
   },
   "outputs": [],
   "source": [
    "# CLEAR MEMORY\n",
    "import gc\n",
    "del train, target, df, oof, true\n",
    "_ = gc.collect()"
   ]
  },
  {
   "cell_type": "code",
   "execution_count": 30,
   "id": "6f2208f3",
   "metadata": {
    "execution": {
     "iopub.execute_input": "2023-03-06T05:57:52.341050Z",
     "iopub.status.busy": "2023-03-06T05:57:52.340259Z",
     "iopub.status.idle": "2023-03-06T05:57:53.238917Z",
     "shell.execute_reply": "2023-03-06T05:57:53.237621Z"
    },
    "papermill": {
     "duration": 0.922384,
     "end_time": "2023-03-06T05:57:53.241645",
     "exception": false,
     "start_time": "2023-03-06T05:57:52.319261",
     "status": "completed"
    },
    "tags": []
   },
   "outputs": [
    {
     "name": "stdout",
     "output_type": "stream",
     "text": [
      "This version of the API is not optimized and should not be used to estimate the runtime of your code on the hidden test set.\n"
     ]
    }
   ],
   "source": [
    "limits = {'0-4':(1,4), '5-12':(4,14), '13-22':(14,19)}\n",
    "\n",
    "for (sample_submission, test) in iter_test:\n",
    "    \n",
    "    # FEATURE ENGINEER TEST DATA\n",
    "    df = feature_engineer(test)\n",
    "    \n",
    "    # INFER TEST DATA\n",
    "    grp = test.level_group.values[0]\n",
    "    a,b = limits[grp]\n",
    "    for t in range(a,b):\n",
    "        clf = models[f'{grp}_{t}']\n",
    "        p = clf.predict_proba(df[FEATURES].astype('float32'))[:,1]\n",
    "        mask = sample_submission.session_id.str.contains(f'q{t}')\n",
    "        sample_submission.loc[mask,'correct'] = int(p.item()>best_threshold)\n",
    "    \n",
    "    env.predict(sample_submission)"
   ]
  },
  {
   "cell_type": "markdown",
   "id": "307000ed",
   "metadata": {
    "papermill": {
     "duration": 0.018995,
     "end_time": "2023-03-06T05:57:53.280191",
     "exception": false,
     "start_time": "2023-03-06T05:57:53.261196",
     "status": "completed"
    },
    "tags": []
   },
   "source": [
    "EDA submission.csv"
   ]
  },
  {
   "cell_type": "code",
   "execution_count": 31,
   "id": "2d7e7aa9",
   "metadata": {
    "execution": {
     "iopub.execute_input": "2023-03-06T05:57:53.321215Z",
     "iopub.status.busy": "2023-03-06T05:57:53.320465Z",
     "iopub.status.idle": "2023-03-06T05:57:53.333910Z",
     "shell.execute_reply": "2023-03-06T05:57:53.332340Z"
    },
    "papermill": {
     "duration": 0.036733,
     "end_time": "2023-03-06T05:57:53.336323",
     "exception": false,
     "start_time": "2023-03-06T05:57:53.299590",
     "status": "completed"
    },
    "tags": []
   },
   "outputs": [
    {
     "name": "stdout",
     "output_type": "stream",
     "text": [
      "(54, 2)\n"
     ]
    },
    {
     "data": {
      "text/html": [
       "<div>\n",
       "<style scoped>\n",
       "    .dataframe tbody tr th:only-of-type {\n",
       "        vertical-align: middle;\n",
       "    }\n",
       "\n",
       "    .dataframe tbody tr th {\n",
       "        vertical-align: top;\n",
       "    }\n",
       "\n",
       "    .dataframe thead th {\n",
       "        text-align: right;\n",
       "    }\n",
       "</style>\n",
       "<table border=\"1\" class=\"dataframe\">\n",
       "  <thead>\n",
       "    <tr style=\"text-align: right;\">\n",
       "      <th></th>\n",
       "      <th>session_id</th>\n",
       "      <th>correct</th>\n",
       "    </tr>\n",
       "  </thead>\n",
       "  <tbody>\n",
       "    <tr>\n",
       "      <th>0</th>\n",
       "      <td>20090109393214576_q1</td>\n",
       "      <td>1</td>\n",
       "    </tr>\n",
       "    <tr>\n",
       "      <th>1</th>\n",
       "      <td>20090109393214576_q2</td>\n",
       "      <td>1</td>\n",
       "    </tr>\n",
       "    <tr>\n",
       "      <th>2</th>\n",
       "      <td>20090109393214576_q3</td>\n",
       "      <td>1</td>\n",
       "    </tr>\n",
       "    <tr>\n",
       "      <th>3</th>\n",
       "      <td>20090312143683264_q1</td>\n",
       "      <td>0</td>\n",
       "    </tr>\n",
       "    <tr>\n",
       "      <th>4</th>\n",
       "      <td>20090312143683264_q2</td>\n",
       "      <td>1</td>\n",
       "    </tr>\n",
       "  </tbody>\n",
       "</table>\n",
       "</div>"
      ],
      "text/plain": [
       "             session_id  correct\n",
       "0  20090109393214576_q1        1\n",
       "1  20090109393214576_q2        1\n",
       "2  20090109393214576_q3        1\n",
       "3  20090312143683264_q1        0\n",
       "4  20090312143683264_q2        1"
      ]
     },
     "execution_count": 31,
     "metadata": {},
     "output_type": "execute_result"
    }
   ],
   "source": [
    "df = pd.read_csv('submission.csv')\n",
    "print( df.shape )\n",
    "df.head()"
   ]
  },
  {
   "cell_type": "code",
   "execution_count": 32,
   "id": "a2e5d35f",
   "metadata": {
    "execution": {
     "iopub.execute_input": "2023-03-06T05:57:53.378550Z",
     "iopub.status.busy": "2023-03-06T05:57:53.377776Z",
     "iopub.status.idle": "2023-03-06T05:57:53.383939Z",
     "shell.execute_reply": "2023-03-06T05:57:53.382596Z"
    },
    "papermill": {
     "duration": 0.029787,
     "end_time": "2023-03-06T05:57:53.386328",
     "exception": false,
     "start_time": "2023-03-06T05:57:53.356541",
     "status": "completed"
    },
    "tags": []
   },
   "outputs": [
    {
     "name": "stdout",
     "output_type": "stream",
     "text": [
      "0.5555555555555556\n"
     ]
    }
   ],
   "source": [
    "print(df.correct.mean())"
   ]
  }
 ],
 "metadata": {
  "kernelspec": {
   "display_name": "Python 3",
   "language": "python",
   "name": "python3"
  },
  "language_info": {
   "codemirror_mode": {
    "name": "ipython",
    "version": 3
   },
   "file_extension": ".py",
   "mimetype": "text/x-python",
   "name": "python",
   "nbconvert_exporter": "python",
   "pygments_lexer": "ipython3",
   "version": "3.7.12"
  },
  "papermill": {
   "default_parameters": {},
   "duration": 250.745966,
   "end_time": "2023-03-06T05:57:54.831973",
   "environment_variables": {},
   "exception": null,
   "input_path": "__notebook__.ipynb",
   "output_path": "__notebook__.ipynb",
   "parameters": {},
   "start_time": "2023-03-06T05:53:44.086007",
   "version": "2.4.0"
  }
 },
 "nbformat": 4,
 "nbformat_minor": 5
}
